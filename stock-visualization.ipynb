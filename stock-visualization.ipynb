{
 "cells": [
  {
   "cell_type": "markdown",
   "metadata": {
    "_uuid": "57db1b5bed910e7912b40a830f224bb4111a7247"
   },
   "source": [
    "# Stock Market Visualization"
   ]
  },
  {
   "cell_type": "code",
   "execution_count": null,
   "metadata": {
    "_uuid": "157052c97dc4e5327f7d92772af712c3dd1b2ee9",
    "collapsed": true
   },
   "outputs": [],
   "source": [
    "# Import Modules\n",
    "\n",
    "import numpy as np\n",
    "import pandas as pd\n",
    "import os\n",
    "import random\n",
    "import copy\n",
    "import matplotlib.pyplot as plt\n",
    "import pandas"
   ]
  },
  {
   "cell_type": "markdown",
   "metadata": {
    "_uuid": "21b6148e0b6715820352a8ecb4ce78b03dddec67"
   },
   "source": [
    "## Read the data from Stock folder"
   ]
  },
  {
   "cell_type": "markdown",
   "metadata": {
    "_uuid": "07b913283a77837f108d0567852646c2fef14269"
   },
   "source": [
    "### Check how much data is available? "
   ]
  },
  {
   "cell_type": "code",
   "execution_count": null,
   "metadata": {
    "_uuid": "a129509c0fda569e41e31b3c04a7a168254c7ddb",
    "collapsed": true
   },
   "outputs": [],
   "source": [
    "from subprocess import check_output\n",
    "print(check_output([\"ls\", \"../input\"]).decode(\"utf8\"))"
   ]
  },
  {
   "cell_type": "code",
   "execution_count": null,
   "metadata": {
    "_uuid": "45130c70382610a10d068b0d221a821fd613c8b8",
    "collapsed": true
   },
   "outputs": [],
   "source": [
    "os.chdir('/Stocks/')\n",
    "list = os.listdir()\n",
    "number_files = len(list)\n",
    "print(number_files)"
   ]
  },
  {
   "cell_type": "markdown",
   "metadata": {
    "_uuid": "8bebf6165a769a13ce11039498e588a02369d3f9"
   },
   "source": [
    "### Choose 8 random stock data for analysis"
   ]
  },
  {
   "cell_type": "code",
   "execution_count": null,
   "metadata": {
    "_uuid": "61851beb8e45b3fa4612b8d465475de226b1587c",
    "collapsed": true
   },
   "outputs": [],
   "source": [
    "#filenames = [x for x in os.listdir(\"./Stocks/\") if x.endswith('.txt') and os.path.getsize(x) > 0]\n",
    "filenames = random.sample([x for x in os.listdir() if x.endswith('.txt') \n",
    "                           and os.path.getsize(os.path.join('',x)) > 0], 8)\n",
    "print(filenames)"
   ]
  },
  {
   "cell_type": "markdown",
   "metadata": {
    "_uuid": "1a03878c839eb38af512e38aa3316456bd8f94ea"
   },
   "source": [
    "### Read data into dataframes"
   ]
  },
  {
   "cell_type": "code",
   "execution_count": null,
   "metadata": {
    "_uuid": "e93141f73875293f0e9da5047ef73515068848ec",
    "collapsed": true
   },
   "outputs": [],
   "source": [
    "data = []\n",
    "for filename in filenames:\n",
    "    df = pd.read_csv(os.path.join('',filename), sep=',')\n",
    "    label, _, _ = filename.split(sep='.')\n",
    "    df['Label'] = label\n",
    "    df['Date'] = pd.to_datetime(df['Date'])\n",
    "\n",
    "    data.append(df)"
   ]
  },
  {
   "cell_type": "code",
   "execution_count": null,
   "metadata": {
    "_uuid": "f17dc027c74a5fc85ad87f88abcf0df854dae0a8",
    "collapsed": true
   },
   "outputs": [],
   "source": [
    "data[0].head()"
   ]
  },
  {
   "cell_type": "code",
   "execution_count": null,
   "metadata": {
    "_uuid": "78553cec9fe1fa36ae118bc3a2a0d43abab73d8d",
    "collapsed": true
   },
   "outputs": [],
   "source": [
    "print(len(data))"
   ]
  },
  {
   "cell_type": "markdown",
   "metadata": {
    "_uuid": "29ab42f0056f5f43ac8e1c664b5fc23a210ab9e6"
   },
   "source": [
    "## Add various Technical Indicators in the dataframe"
   ]
  },
  {
   "cell_type": "code",
   "execution_count": null,
   "metadata": {
    "_uuid": "5c6003ed6aa1fcc16c8f6d2016148e6d682a870c",
    "collapsed": true
   },
   "outputs": [],
   "source": [
    "TechIndicator = copy.deepcopy(data)"
   ]
  },
  {
   "cell_type": "markdown",
   "metadata": {
    "_uuid": "8a776a7da9bef539bd8e678dcc0b21f14e6318ff"
   },
   "source": [
    "### Calculation of Relative Strength Index (RSI)"
   ]
  },
  {
   "cell_type": "code",
   "execution_count": null,
   "metadata": {
    "_uuid": "7c35101a0848a0bafe437b38b03c3a1ec1557ea5",
    "collapsed": true
   },
   "outputs": [],
   "source": [
    "\n",
    "def rsi(values):\n",
    "    up = values[values>0].mean()\n",
    "    down = -1*values[values<0].mean()\n",
    "    return 100 * up / (up + down)\n"
   ]
  },
  {
   "cell_type": "code",
   "execution_count": null,
   "metadata": {
    "_uuid": "94e5c83b7778ad70faa595fed775c0ab150a846e",
    "collapsed": true
   },
   "outputs": [],
   "source": [
    "\n",
    "for stock in range(len(TechIndicator)):\n",
    "    TechIndicator[stock]['Momentum_1D'] = (TechIndicator[stock]['Close']-TechIndicator[stock]['Close'].shift(1)).fillna(0)\n",
    "    TechIndicator[stock]['RSI_14D'] = TechIndicator[stock]['Momentum_1D'].rolling(center=False, window=14).apply(rsi).fillna(0)\n",
    "TechIndicator[0].tail(5)"
   ]
  },
  {
   "cell_type": "code",
   "execution_count": null,
   "metadata": {
    "_uuid": "64e76e70f84e3f91b89d84ca07e98d59d5249dac",
    "collapsed": true
   },
   "outputs": [],
   "source": [
    "### Calculation of Volume (Plain)m"
   ]
  },
  {
   "cell_type": "code",
   "execution_count": null,
   "metadata": {
    "_uuid": "632073a03b3cba10e849ecc315aad8d463206bf5",
    "collapsed": true
   },
   "outputs": [],
   "source": [
    "for stock in range(len(TechIndicator)):\n",
    "    TechIndicator[stock]['Volume_plain'] = TechIndicator[stock]['Volume'].fillna(0)\n",
    "TechIndicator[0].tail()"
   ]
  },
  {
   "cell_type": "markdown",
   "metadata": {
    "_uuid": "617c8dc75d3975639e163a624d90817e92dff557"
   },
   "source": [
    "### Calculation of Bollinger Bands"
   ]
  },
  {
   "cell_type": "code",
   "execution_count": null,
   "metadata": {
    "_uuid": "acc9cedf1e2d6953b81a4ae72544c58acb1c9b58",
    "collapsed": true
   },
   "outputs": [],
   "source": [
    "def bbands(price, length=30, numsd=2):\n",
    "    \"\"\" returns average, upper band, and lower band\"\"\"\n",
    "    #ave = pd.stats.moments.rolling_mean(price,length)\n",
    "    ave = price.rolling(window = length, center = False).mean()\n",
    "    #sd = pd.stats.moments.rolling_std(price,length)\n",
    "    sd = price.rolling(window = length, center = False).std()\n",
    "    upband = ave + (sd*numsd)\n",
    "    dnband = ave - (sd*numsd)\n",
    "    return np.round(ave,3), np.round(upband,3), np.round(dnband,3)"
   ]
  },
  {
   "cell_type": "code",
   "execution_count": null,
   "metadata": {
    "_uuid": "12947b64f91bb8015614c06ae2b606a727ee433e",
    "collapsed": true
   },
   "outputs": [],
   "source": [
    "for stock in range(len(TechIndicator)):\n",
    "    TechIndicator[stock]['BB_Middle_Band'], TechIndicator[stock]['BB_Upper_Band'], TechIndicator[stock]['BB_Lower_Band'] = bbands(TechIndicator[stock]['Close'], length=20, numsd=1)\n",
    "    TechIndicator[stock]['BB_Middle_Band'] = TechIndicator[stock]['BB_Middle_Band'].fillna(0)\n",
    "    TechIndicator[stock]['BB_Upper_Band'] = TechIndicator[stock]['BB_Upper_Band'].fillna(0)\n",
    "    TechIndicator[stock]['BB_Lower_Band'] = TechIndicator[stock]['BB_Lower_Band'].fillna(0)\n",
    "TechIndicator[0].tail()"
   ]
  },
  {
   "cell_type": "markdown",
   "metadata": {
    "_uuid": "9e0b8632c8ef22496d49830e5e863b520e7bab69"
   },
   "source": [
    "### Calculation of Aroon Oscillator"
   ]
  },
  {
   "cell_type": "code",
   "execution_count": null,
   "metadata": {
    "_uuid": "6af8bd25e38828477bcd5d50cf9b6023da9a08b5",
    "collapsed": true
   },
   "outputs": [],
   "source": [
    "def aroon(df, tf=25):\n",
    "    aroonup = []\n",
    "    aroondown = []\n",
    "    x = tf\n",
    "    while x< len(df['Date']):\n",
    "        aroon_up = ((df['High'][x-tf:x].tolist().index(max(df['High'][x-tf:x])))/float(tf))*100\n",
    "        aroon_down = ((df['Low'][x-tf:x].tolist().index(min(df['Low'][x-tf:x])))/float(tf))*100\n",
    "        aroonup.append(aroon_up)\n",
    "        aroondown.append(aroon_down)\n",
    "        x+=1\n",
    "    return aroonup, aroondown"
   ]
  },
  {
   "cell_type": "code",
   "execution_count": null,
   "metadata": {
    "_uuid": "4210bfc34eb5a9ce883139053dc060d86785de75",
    "collapsed": true
   },
   "outputs": [],
   "source": [
    "for stock in range(len(TechIndicator)):\n",
    "    listofzeros = [0] * 25\n",
    "    up, down = aroon(TechIndicator[stock])\n",
    "    aroon_list = [x - y for x, y in zip(up,down)]\n",
    "    if len(aroon_list)==0:\n",
    "        aroon_list = [0] * TechIndicator[stock].shape[0]\n",
    "        TechIndicator[stock]['Aroon_Oscillator'] = aroon_list\n",
    "    else:\n",
    "        TechIndicator[stock]['Aroon_Oscillator'] = listofzeros+aroon_list\n"
   ]
  },
  {
   "cell_type": "markdown",
   "metadata": {
    "_uuid": "efd15afe87b52efa3891349072e7243d14ef0047"
   },
   "source": [
    "### Calculation of Price Volume Trend"
   ]
  },
  {
   "cell_type": "markdown",
   "metadata": {
    "_uuid": "63b1f6e96e5197c3f1d3998bbf31aaa00596b861"
   },
   "source": [
    "PVT = [((CurrentClose - PreviousClose) / PreviousClose) x Volume] + PreviousPVT"
   ]
  },
  {
   "cell_type": "code",
   "execution_count": null,
   "metadata": {
    "_uuid": "9ec52055ae8131b7732b407336967a33f03b9ed4",
    "collapsed": true
   },
   "outputs": [],
   "source": [
    "for stock in range(len(TechIndicator)):\n",
    "    TechIndicator[stock][\"PVT\"] = (TechIndicator[stock]['Momentum_1D']/ TechIndicator[stock]['Close'].shift(1))*TechIndicator[stock]['Volume']\n",
    "    TechIndicator[stock][\"PVT\"] = TechIndicator[stock][\"PVT\"]-TechIndicator[stock][\"PVT\"].shift(1)\n",
    "    TechIndicator[stock][\"PVT\"] = TechIndicator[stock][\"PVT\"].fillna(0)\n",
    "TechIndicator[0].tail()"
   ]
  },
  {
   "cell_type": "markdown",
   "metadata": {
    "_uuid": "3eb4a75e0e25a06fdcaaa970b63e459fd4506278"
   },
   "source": [
    "### Calculation of Acceleration Bands"
   ]
  },
  {
   "cell_type": "code",
   "execution_count": null,
   "metadata": {
    "_uuid": "0ff764f8078a402c5bd96d938a093bfdfe8a3a98",
    "collapsed": true
   },
   "outputs": [],
   "source": [
    "def abands(df):\n",
    "    #df['AB_Middle_Band'] = pd.rolling_mean(df['Close'], 20)\n",
    "    df['AB_Middle_Band'] = df['Close'].rolling(window = 20, center=False).mean()\n",
    "    # High * ( 1 + 4 * (High - Low) / (High + Low))\n",
    "    df['aupband'] = df['High'] * (1 + 4 * (df['High']-df['Low'])/(df['High']+df['Low']))\n",
    "    df['AB_Upper_Band'] = df['aupband'].rolling(window=20, center=False).mean()\n",
    "    # Low *(1 - 4 * (High - Low)/ (High + Low))\n",
    "    df['adownband'] = df['Low'] * (1 - 4 * (df['High']-df['Low'])/(df['High']+df['Low']))\n",
    "    df['AB_Lower_Band'] = df['adownband'].rolling(window=20, center=False).mean()"
   ]
  },
  {
   "cell_type": "code",
   "execution_count": null,
   "metadata": {
    "_uuid": "fdbf5245364608604a31203338d6516fe7b17344",
    "collapsed": true
   },
   "outputs": [],
   "source": [
    "for stock in range(len(TechIndicator)):\n",
    "    abands(TechIndicator[stock])\n",
    "    TechIndicator[stock] = TechIndicator[stock].fillna(0)\n",
    "TechIndicator[0].tail()"
   ]
  },
  {
   "cell_type": "markdown",
   "metadata": {
    "_uuid": "5ce28252e8c94660ef8a2d12530276d0c449921a"
   },
   "source": [
    "## Drop unwanted columns"
   ]
  },
  {
   "cell_type": "code",
   "execution_count": null,
   "metadata": {
    "_uuid": "10558e9a8ab6208199f7f31d371b2c4372b817fa",
    "collapsed": true
   },
   "outputs": [],
   "source": [
    "columns2Drop = ['Momentum_1D', 'aupband', 'adownband']\n",
    "for stock in range(len(TechIndicator)):\n",
    "    TechIndicator[stock] = TechIndicator[stock].drop(labels = columns2Drop, axis=1)\n",
    "TechIndicator[0].head()"
   ]
  },
  {
   "cell_type": "markdown",
   "metadata": {
    "_uuid": "16fa53ce307b39267aafcfe56cd544f166b1c0a9"
   },
   "source": [
    "### Calculation of Stochastic Oscillator (%K and %D)"
   ]
  },
  {
   "cell_type": "code",
   "execution_count": null,
   "metadata": {
    "_uuid": "1f4f1cd387fec9768ddd2b39998f7253ff03d032",
    "collapsed": true
   },
   "outputs": [],
   "source": [
    "def STOK(df, n):\n",
    "    df['STOK'] = ((df['Close'] - df['Low'].rolling(window=n, center=False).mean()) / (df['High'].rolling(window=n, center=False).max() - df['Low'].rolling(window=n, center=False).min())) * 100\n",
    "    df['STOD'] = df['STOK'].rolling(window = 3, center=False).mean()"
   ]
  },
  {
   "cell_type": "code",
   "execution_count": null,
   "metadata": {
    "_uuid": "ff047cf703735529de9459131ccab5ffa39b4be9",
    "collapsed": true
   },
   "outputs": [],
   "source": [
    "for stock in range(len(TechIndicator)):\n",
    "    STOK(TechIndicator[stock], 4)\n",
    "    TechIndicator[stock] = TechIndicator[stock].fillna(0)\n",
    "TechIndicator[0].tail()"
   ]
  },
  {
   "cell_type": "markdown",
   "metadata": {
    "_uuid": "c935af4d49f5c678cb5e952111556ba0ab2e99f0"
   },
   "source": [
    "### Calculation of Chaikin Money Flow"
   ]
  },
  {
   "cell_type": "code",
   "execution_count": null,
   "metadata": {
    "_uuid": "cb4d9fa92ab2ca246ffdc81aafcae635382c6c5a",
    "collapsed": true
   },
   "outputs": [],
   "source": [
    "def CMFlow(df, tf):\n",
    "    CHMF = []\n",
    "    MFMs = []\n",
    "    MFVs = []\n",
    "    x = tf\n",
    "    \n",
    "    while x < len(df['Date']):\n",
    "        PeriodVolume = 0\n",
    "        volRange = df['Volume'][x-tf:x]\n",
    "        for eachVol in volRange:\n",
    "            PeriodVolume += eachVol\n",
    "        \n",
    "        MFM = ((df['Close'][x] - df['Low'][x]) - (df['High'][x] - df['Close'][x])) / (df['High'][x] - df['Low'][x])\n",
    "        MFV = MFM*PeriodVolume\n",
    "        \n",
    "        MFMs.append(MFM)\n",
    "        MFVs.append(MFV)\n",
    "        x+=1\n",
    "    \n",
    "    y = tf\n",
    "    while y < len(MFVs):\n",
    "        PeriodVolume = 0\n",
    "        volRange = df['Volume'][x-tf:x]\n",
    "        for eachVol in volRange:\n",
    "            PeriodVolume += eachVol\n",
    "        consider = MFVs[y-tf:y]\n",
    "        tfsMFV = 0\n",
    "        \n",
    "        for eachMFV in consider:\n",
    "            tfsMFV += eachMFV\n",
    "        \n",
    "        tfsCMF = tfsMFV/PeriodVolume\n",
    "        CHMF.append(tfsCMF)\n",
    "        y+=1\n",
    "    return CHMF"
   ]
  },
  {
   "cell_type": "code",
   "execution_count": null,
   "metadata": {
    "_uuid": "ef87aae17a57de2323b1c08665b5546b2ed414d6",
    "collapsed": true
   },
   "outputs": [],
   "source": [
    "for stock in range(len(TechIndicator)):\n",
    "    listofzeros = [0] * 40\n",
    "    CHMF = CMFlow(TechIndicator[stock], 20)\n",
    "    if len(CHMF)==0:\n",
    "        CHMF = [0] * TechIndicator[stock].shape[0]\n",
    "        TechIndicator[stock]['Chaikin_MF'] = CHMF\n",
    "    else:\n",
    "        TechIndicator[stock]['Chaikin_MF'] = listofzeros+CHMF\n",
    "TechIndicator[0].tail()"
   ]
  },
  {
   "cell_type": "markdown",
   "metadata": {
    "_uuid": "f6377d196415abb6c505b6435c66643c683787bd"
   },
   "source": [
    "### Calculation of Parabolic SAR"
   ]
  },
  {
   "cell_type": "code",
   "execution_count": null,
   "metadata": {
    "_uuid": "1c1edebef6fa5c5d3c3884a19deae5f18c69bc4f",
    "collapsed": true
   },
   "outputs": [],
   "source": [
    "def psar(df, iaf = 0.02, maxaf = 0.2):\n",
    "    length = len(df)\n",
    "    dates = (df['Date'])\n",
    "    high = (df['High'])\n",
    "    low = (df['Low'])\n",
    "    close = (df['Close'])\n",
    "    psar = df['Close'][0:len(df['Close'])]\n",
    "    psarbull = [None] * length\n",
    "    psarbear = [None] * length\n",
    "    bull = True\n",
    "    af = iaf\n",
    "    ep = df['Low'][0]\n",
    "    hp = df['High'][0]\n",
    "    lp = df['Low'][0]\n",
    "    for i in range(2,length):\n",
    "        if bull:\n",
    "            psar[i] = psar[i - 1] + af * (hp - psar[i - 1])\n",
    "        else:\n",
    "            psar[i] = psar[i - 1] + af * (lp - psar[i - 1])\n",
    "        reverse = False\n",
    "        if bull:\n",
    "            if df['Low'][i] < psar[i]:\n",
    "                bull = False\n",
    "                reverse = True\n",
    "                psar[i] = hp\n",
    "                lp = df['Low'][i]\n",
    "                af = iaf\n",
    "        else:\n",
    "            if df['High'][i] > psar[i]:\n",
    "                bull = True\n",
    "                reverse = True\n",
    "                psar[i] = lp\n",
    "                hp = df['High'][i]\n",
    "                af = iaf\n",
    "        if not reverse:\n",
    "            if bull:\n",
    "                if df['High'][i] > hp:\n",
    "                    hp = df['High'][i]\n",
    "                    af = min(af + iaf, maxaf)\n",
    "                if df['Low'][i - 1] < psar[i]:\n",
    "                    psar[i] = df['Low'][i - 1]\n",
    "                if df['Low'][i - 2] < psar[i]:\n",
    "                    psar[i] = df['Low'][i - 2]\n",
    "            else:\n",
    "                if df['Low'][i] < lp:\n",
    "                    lp = df['Low'][i]\n",
    "                    af = min(af + iaf, maxaf)\n",
    "                if df['High'][i - 1] > psar[i]:\n",
    "                    psar[i] = df['High'][i - 1]\n",
    "                if df['High'][i - 2] > psar[i]:\n",
    "                    psar[i] = df['High'][i - 2]\n",
    "        if bull:\n",
    "            psarbull[i] = psar[i]\n",
    "        else:\n",
    "            psarbear[i] = psar[i]\n",
    "    #return {\"dates\":dates, \"high\":high, \"low\":low, \"close\":close, \"psar\":psar, \"psarbear\":psarbear, \"psarbull\":psarbull}\n",
    "    #return psar, psarbear, psarbull\n",
    "    df['psar'] = psar\n",
    "    #df['psarbear'] = psarbear\n",
    "    #df['psarbull'] = psarbull"
   ]
  },
  {
   "cell_type": "code",
   "execution_count": null,
   "metadata": {
    "_uuid": "476f560baff335b38e50371e42b8831ae80f7e43",
    "collapsed": true
   },
   "outputs": [],
   "source": [
    "for stock in range(len(TechIndicator)):\n",
    "    psar(TechIndicator[stock])\n",
    "\n",
    "TechIndicator[0].tail()"
   ]
  },
  {
   "cell_type": "markdown",
   "metadata": {
    "_uuid": "f869438e8a842f1c9f746d7c7b590dc02c13a7f1"
   },
   "source": [
    "### Calculation of Price Rate of Change"
   ]
  },
  {
   "cell_type": "code",
   "execution_count": null,
   "metadata": {
    "_uuid": "46b859732b88b0a72fa9921ac9b24e805dac3b18",
    "collapsed": true
   },
   "outputs": [],
   "source": [
    "# ROC = [(Close - Close n periods ago) / (Close n periods ago)] * 100\n",
    "for stock in range(len(TechIndicator)):\n",
    "    TechIndicator[stock]['ROC'] = ((TechIndicator[stock]['Close'] - TechIndicator[stock]['Close'].shift(12))/(TechIndicator[stock]['Close'].shift(12)))*100\n",
    "    TechIndicator[stock] = TechIndicator[stock].fillna(0)\n",
    "TechIndicator[0].tail()"
   ]
  },
  {
   "cell_type": "markdown",
   "metadata": {
    "_uuid": "ea314d777439e0f4b1a958a68ba38a5a70eaf95d"
   },
   "source": [
    "### Calculation of Volume Weighted Average Price"
   ]
  },
  {
   "cell_type": "code",
   "execution_count": null,
   "metadata": {
    "_uuid": "642d4e80b471a5d2cf42b17414e2645d0e187191",
    "collapsed": true
   },
   "outputs": [],
   "source": [
    "for stock in range(len(TechIndicator)):\n",
    "    TechIndicator[stock]['VWAP'] = np.cumsum(TechIndicator[stock]['Volume'] * (TechIndicator[stock]['High'] + TechIndicator[stock]['Low'])/2) / np.cumsum(TechIndicator[stock]['Volume'])\n",
    "    TechIndicator[stock] = TechIndicator[stock].fillna(0)\n",
    "TechIndicator[0].tail()"
   ]
  },
  {
   "cell_type": "markdown",
   "metadata": {
    "_uuid": "4414094dfba1097bbe0bf305134a33ac7722cbf0"
   },
   "source": [
    "### Calculation of Momentum "
   ]
  },
  {
   "cell_type": "code",
   "execution_count": null,
   "metadata": {
    "_uuid": "6b934bb5d32c5bce07faa89ddc66d50d72a3e09a",
    "collapsed": true
   },
   "outputs": [],
   "source": [
    "for stock in range(len(TechIndicator)):\n",
    "    TechIndicator[stock]['Momentum'] = TechIndicator[stock]['Close'] - TechIndicator[stock]['Close'].shift(4)\n",
    "    TechIndicator[stock] = TechIndicator[stock].fillna(0)\n",
    "TechIndicator[0].tail()"
   ]
  },
  {
   "cell_type": "markdown",
   "metadata": {
    "_uuid": "d837ed94b217dae585d9e3f886a9741df5709573"
   },
   "source": [
    "### Calculation of Commodity Channel Index"
   ]
  },
  {
   "cell_type": "code",
   "execution_count": null,
   "metadata": {
    "_uuid": "989d1c9f8c60a1f10911f6f5a2f0510a4a7e5faa",
    "collapsed": true
   },
   "outputs": [],
   "source": [
    "def CCI(df, n, constant):\n",
    "    TP = (df['High'] + df['Low'] + df['Close']) / 3\n",
    "    CCI = pd.Series((TP - TP.rolling(window=n, center=False).mean()) / (constant * TP.rolling(window=n, center=False).std())) #, name = 'CCI_' + str(n))\n",
    "    return CCI"
   ]
  },
  {
   "cell_type": "code",
   "execution_count": null,
   "metadata": {
    "_uuid": "0869504d90365886af690fc2397185d64a07e40c",
    "collapsed": true
   },
   "outputs": [],
   "source": [
    "for stock in range(len(TechIndicator)):\n",
    "    TechIndicator[stock]['CCI'] = CCI(TechIndicator[stock], 20, 0.015)\n",
    "    TechIndicator[stock] = TechIndicator[stock].fillna(0)\n",
    "TechIndicator[0].tail()"
   ]
  },
  {
   "cell_type": "markdown",
   "metadata": {
    "_uuid": "2361a271e089beff14aead44042368abe31ab55d"
   },
   "source": [
    "### Calculation of On Balance Volume"
   ]
  },
  {
   "cell_type": "markdown",
   "metadata": {
    "_uuid": "9c8ef49b059dce88c1aeb8cd8b48d15052871916"
   },
   "source": [
    "If the closing price is above the prior close price then: \n",
    "Current OBV = Previous OBV + Current Volume\n",
    "\n",
    "If the closing price is below the prior close price then: \n",
    "Current OBV = Previous OBV  -  Current Volume\n",
    "\n",
    "If the closing prices equals the prior close price then:\n",
    "Current OBV = Previous OBV (no change)"
   ]
  },
  {
   "cell_type": "code",
   "execution_count": null,
   "metadata": {
    "_uuid": "64b3a1b3a1ad6964c2cb0a7c3f6ee495c4536477",
    "collapsed": true
   },
   "outputs": [],
   "source": [
    "for stock in range(len(TechIndicator)):\n",
    "    new = (TechIndicator[stock]['Volume'] * (~TechIndicator[stock]['Close'].diff().le(0) * 2 -1)).cumsum()\n",
    "    TechIndicator[stock]['OBV'] = new\n",
    "TechIndicator[5].tail()"
   ]
  },
  {
   "cell_type": "markdown",
   "metadata": {
    "_uuid": "95ef6fe9e48cfa09494648c7c5a92c6898362b37"
   },
   "source": [
    "### Calcualtion of Keltner Channels"
   ]
  },
  {
   "cell_type": "code",
   "execution_count": null,
   "metadata": {
    "_uuid": "61b85c6a628f76ec864a1318751c6f4ca8c2a406",
    "collapsed": true
   },
   "outputs": [],
   "source": [
    "#Keltner Channel  \n",
    "def KELCH(df, n):  \n",
    "    KelChM = pd.Series(((df['High'] + df['Low'] + df['Close']) / 3).rolling(window =n, center=False).mean(), name = 'KelChM_' + str(n))  \n",
    "    KelChU = pd.Series(((4 * df['High'] - 2 * df['Low'] + df['Close']) / 3).rolling(window =n, center=False).mean(), name = 'KelChU_' + str(n))  \n",
    "    KelChD = pd.Series(((-2 * df['High'] + 4 * df['Low'] + df['Close']) / 3).rolling(window =n, center=False).mean(), name = 'KelChD_' + str(n))    \n",
    "    return KelChM, KelChD, KelChU"
   ]
  },
  {
   "cell_type": "code",
   "execution_count": null,
   "metadata": {
    "_uuid": "e06024c8644c48cc1d53102f2f2f4c04dfbd0dad",
    "collapsed": true
   },
   "outputs": [],
   "source": [
    "for stock in range(len(TechIndicator)):\n",
    "    KelchM, KelchD, KelchU = KELCH(TechIndicator[stock], 14)\n",
    "    TechIndicator[stock]['Kelch_Upper'] = KelchU\n",
    "    TechIndicator[stock]['Kelch_Middle'] = KelchM\n",
    "    TechIndicator[stock]['Kelch_Down'] = KelchD\n",
    "    TechIndicator[stock] = TechIndicator[stock].fillna(0)\n",
    "TechIndicator[5].tail()"
   ]
  },
  {
   "cell_type": "markdown",
   "metadata": {
    "_uuid": "1dc6e863fe3f3dcf8833dad89ec39b7c687afe24"
   },
   "source": [
    "### Calculation of Triple Exponential Moving Average"
   ]
  },
  {
   "cell_type": "markdown",
   "metadata": {
    "_uuid": "3faea7ad8e455f17b0fd2e7a49dc738fac625a0c"
   },
   "source": [
    "Triple Exponential MA Formula:\n",
    "\n",
    "T-EMA = (3*EMA – 3*EMA(EMA)) + EMA(EMA(EMA))\n",
    "\n",
    "Where:\n",
    "\n",
    "EMA = EMA(1) + α * (Close – EMA(1))\n",
    "\n",
    "α = 2 / (N + 1)\n",
    "\n",
    "N = The smoothing period."
   ]
  },
  {
   "cell_type": "code",
   "execution_count": null,
   "metadata": {
    "_uuid": "2a42ab30187c062785a46c6356938e97f5861447",
    "collapsed": true
   },
   "outputs": [],
   "source": [
    "for stock in range(len(TechIndicator)):\n",
    "    TechIndicator[stock]['EMA'] = TechIndicator[stock]['Close'].ewm(span=3,min_periods=0,adjust=True,ignore_na=False).mean()\n",
    "    \n",
    "    TechIndicator[stock] = TechIndicator[stock].fillna(0)\n",
    "\n",
    "for stock in range(len(TechIndicator)):\n",
    "    TechIndicator[stock]['TEMA'] = (3 * TechIndicator[stock]['EMA'] - 3 * TechIndicator[stock]['EMA'] * TechIndicator[stock]['EMA']) + (TechIndicator[stock]['EMA']*TechIndicator[stock]['EMA']*TechIndicator[stock]['EMA'])\n",
    "TechIndicator[5].tail()"
   ]
  },
  {
   "cell_type": "markdown",
   "metadata": {
    "_uuid": "510d54d1031a7b053d9af6ba5e5ad1cb0672d348"
   },
   "source": [
    "### Calculation of Normalized Average True Range"
   ]
  },
  {
   "cell_type": "code",
   "execution_count": null,
   "metadata": {
    "_uuid": "fe75a36c00b71aae2aca138890d623f627e79130",
    "collapsed": true
   },
   "outputs": [],
   "source": [
    "for stock in range(len(TechIndicator)):\n",
    "    TechIndicator[stock]['HL'] = TechIndicator[stock]['High'] - TechIndicator[stock]['Low']\n",
    "    TechIndicator[stock]['absHC'] = abs(TechIndicator[stock]['High'] - TechIndicator[stock]['Close'].shift(1))\n",
    "    TechIndicator[stock]['absLC'] = abs(TechIndicator[stock]['Low'] - TechIndicator[stock]['Close'].shift(1))\n",
    "    TechIndicator[stock]['TR'] = TechIndicator[stock][['HL','absHC','absLC']].max(axis=1)\n",
    "    TechIndicator[stock]['ATR'] = TechIndicator[stock]['TR'].rolling(window=14).mean()\n",
    "    TechIndicator[stock]['NATR'] = (TechIndicator[stock]['ATR'] / TechIndicator[stock]['Close']) *100\n",
    "    TechIndicator[stock] = TechIndicator[stock].fillna(0)\n",
    "TechIndicator[5].tail()"
   ]
  },
  {
   "cell_type": "markdown",
   "metadata": {
    "_uuid": "7e839c9fc65c6cfc2634986f8538303ba1fdd131"
   },
   "source": [
    "### Calculation of Average Directional Movement Index (ADX)"
   ]
  },
  {
   "cell_type": "markdown",
   "metadata": {
    "_uuid": "182028646474a635556c49229110daec334b9942"
   },
   "source": [
    "Calculating the DMI can actually be broken down into two parts. \n",
    "First, calculating the +DI and -DI, and second, calculating the ADX.\n",
    "\n",
    "To calculate the +DI and -DI you need to find the +DM and -DM (Directional Movement). \n",
    "+DM and -DM are calculated using the High, Low and Close for each period. \n",
    "You can then calculate the following:\n",
    "\n",
    "Current High - Previous High = UpMove\n",
    "Previous Low - Current Low = DownMove\n",
    "\n",
    "If UpMove > DownMove and UpMove > 0, then +DM = UpMove, else +DM = 0\n",
    "If DownMove > Upmove and Downmove > 0, then -DM = DownMove, else -DM = 0\n",
    "\n",
    "Once you have the current +DM and -DM calculated, the +DM and -DM lines can be \n",
    "calculated and plotted based on the number of user defined periods.\n",
    "\n",
    "+DI = 100 times Exponential Moving Average of (+DM / Average True Range)\n",
    "-DI = 100 times Exponential Moving Average of (-DM / Average True Range)\n",
    "\n",
    "Now that -+DX and -DX have been calculated, the last step is calculating the ADX.\n",
    "\n",
    "ADX = 100 times the Exponential Moving Average of the Absolute Value of (+DI - -DI) / (+DI + -DI)"
   ]
  },
  {
   "cell_type": "code",
   "execution_count": null,
   "metadata": {
    "_uuid": "8595221c8bc74ba114b918101ca987e44a5c721c",
    "collapsed": true
   },
   "outputs": [],
   "source": [
    "def DMI(df, period):\n",
    "    df['UpMove'] = df['High'] - df['High'].shift(1)\n",
    "    df['DownMove'] = df['Low'].shift(1) - df['Low']\n",
    "    df['Zero'] = 0\n",
    "\n",
    "    df['PlusDM'] = np.where((df['UpMove'] > df['DownMove']) & (df['UpMove'] > df['Zero']), df['UpMove'], 0)\n",
    "    df['MinusDM'] = np.where((df['UpMove'] < df['DownMove']) & (df['DownMove'] > df['Zero']), df['DownMove'], 0)\n",
    "\n",
    "    df['plusDI'] = 100 * (df['PlusDM']/df['ATR']).ewm(span=period,min_periods=0,adjust=True,ignore_na=False).mean()\n",
    "    df['minusDI'] = 100 * (df['MinusDM']/df['ATR']).ewm(span=period,min_periods=0,adjust=True,ignore_na=False).mean()\n",
    "\n",
    "    df['ADX'] = 100 * (abs((df['plusDI'] - df['minusDI'])/(df['plusDI'] + df['minusDI']))).ewm(span=period,min_periods=0,adjust=True,ignore_na=False).mean()\n"
   ]
  },
  {
   "cell_type": "code",
   "execution_count": null,
   "metadata": {
    "_uuid": "5654520f83934a1ccc940189848f0fe9e2cd033f",
    "collapsed": true
   },
   "outputs": [],
   "source": [
    "for stock in range(len(TechIndicator)):\n",
    "    DMI(TechIndicator[stock], 14)\n",
    "    TechIndicator[stock] = TechIndicator[stock].fillna(0)\n",
    "TechIndicator[5].tail()"
   ]
  },
  {
   "cell_type": "markdown",
   "metadata": {
    "_uuid": "a92fcee0d30a7715479523e9c03a397c5a401fc3"
   },
   "source": [
    "## Drop Unwanted Columns"
   ]
  },
  {
   "cell_type": "code",
   "execution_count": null,
   "metadata": {
    "_uuid": "a768d36d05dbf817a1a4a87c19419de1f2316ced",
    "collapsed": true
   },
   "outputs": [],
   "source": [
    "columns2Drop = ['UpMove', 'DownMove', 'ATR', 'PlusDM', 'MinusDM', 'Zero', 'EMA', 'HL', 'absHC', 'absLC', 'TR']\n",
    "for stock in range(len(TechIndicator)):\n",
    "    TechIndicator[stock] = TechIndicator[stock].drop(labels = columns2Drop, axis=1)\n",
    "TechIndicator[2].head()"
   ]
  },
  {
   "cell_type": "markdown",
   "metadata": {
    "_uuid": "14225a65fc34a1667f3d62b541b54eeb1085548b"
   },
   "source": [
    "### Calculation of MACD"
   ]
  },
  {
   "cell_type": "markdown",
   "metadata": {
    "_uuid": "3dda160b0f9b6a6a634193c2402632232a9d7cd5"
   },
   "source": [
    "MACD: (12-day EMA - 26-day EMA)"
   ]
  },
  {
   "cell_type": "code",
   "execution_count": null,
   "metadata": {
    "_uuid": "be7bdd13c43b5a42fc9960d0db51d2bff34fa30c",
    "collapsed": true
   },
   "outputs": [],
   "source": [
    "for stock in range(len(TechIndicator)):\n",
    "    TechIndicator[stock]['26_ema'] = TechIndicator[stock]['Close'].ewm(span=26,min_periods=0,adjust=True,ignore_na=False).mean()\n",
    "    TechIndicator[stock]['12_ema'] = TechIndicator[stock]['Close'].ewm(span=12,min_periods=0,adjust=True,ignore_na=False).mean()\n",
    "    TechIndicator[stock]['MACD'] = TechIndicator[stock]['12_ema'] - TechIndicator[stock]['26_ema']\n",
    "    TechIndicator[stock] = TechIndicator[stock].fillna(0)\n",
    "TechIndicator[2].tail()"
   ]
  },
  {
   "cell_type": "markdown",
   "metadata": {
    "_uuid": "17cb26b65ca27a70606bd65fbd52920bafc74712"
   },
   "source": [
    "### Calculation of Money Flow Index"
   ]
  },
  {
   "cell_type": "markdown",
   "metadata": {
    "_uuid": "15b63b7eac268a20d8c8ae901fef8a0813efefc5"
   },
   "source": [
    "Typical Price = (High + Low + Close)/3\n",
    "\n",
    "Raw Money Flow = Typical Price x Volume\n",
    "\n",
    "The money flow is divided into positive and negative money flow.\n",
    "\n",
    "- Positive money flow is calculated by adding the money flow of all the days where the typical price is higher than the previous day's typical price.\n",
    "- Negative money flow is calculated by adding the money flow of all the days where the typical price is lower than the previous day's typical price.\n",
    "- If typical price is unchanged then that day is discarded.\n",
    "\n",
    "Money Flow Ratio = (14-period Positive Money Flow)/(14-period Negative Money Flow)\n",
    "\n",
    "Money Flow Index = 100 - 100/(1 + Money Flow Ratio)"
   ]
  },
  {
   "cell_type": "code",
   "execution_count": null,
   "metadata": {
    "_uuid": "49a6d93ee59f4849b2cac7ee007c522cba188b57",
    "collapsed": true
   },
   "outputs": [],
   "source": [
    "def MFI(df):\n",
    "    # typical price\n",
    "    df['tp'] = (df['High']+df['Low']+df['Close'])/3\n",
    "    #raw money flow\n",
    "    df['rmf'] = df['tp'] * df['Volume']\n",
    "    \n",
    "    # positive and negative money flow\n",
    "    df['pmf'] = np.where(df['tp'] > df['tp'].shift(1), df['tp'], 0)\n",
    "    df['nmf'] = np.where(df['tp'] < df['tp'].shift(1), df['tp'], 0)\n",
    "\n",
    "    # money flow ratio\n",
    "    df['mfr'] = df['pmf'].rolling(window=14,center=False).sum()/df['nmf'].rolling(window=14,center=False).sum()\n",
    "    df['Money_Flow_Index'] = 100 - 100 / (1 + df['mfr'])"
   ]
  },
  {
   "cell_type": "code",
   "execution_count": null,
   "metadata": {
    "_uuid": "f1d9ecb24263c8b9e2578a6865a0ac80007fbbf6",
    "collapsed": true
   },
   "outputs": [],
   "source": [
    "for stock in range(len(TechIndicator)):\n",
    "    MFI(TechIndicator[stock])\n",
    "    TechIndicator[stock] = TechIndicator[stock].fillna(0)\n",
    "TechIndicator[2].tail()"
   ]
  },
  {
   "cell_type": "markdown",
   "metadata": {
    "_uuid": "1cc7f0729b03719d82d861fb269c93fb436d6a6e"
   },
   "source": [
    "### Calculations of Ichimoku Cloud"
   ]
  },
  {
   "cell_type": "code",
   "execution_count": null,
   "metadata": {
    "_uuid": "052772246a47feeb0071a9b180d20ea962dfc146",
    "collapsed": true
   },
   "outputs": [],
   "source": [
    "def ichimoku(df):\n",
    "    # Turning Line\n",
    "    period9_high = df['High'].rolling(window=9,center=False).max()\n",
    "    period9_low = df['Low'].rolling(window=9,center=False).min()\n",
    "    df['turning_line'] = (period9_high + period9_low) / 2\n",
    "    \n",
    "    # Standard Line\n",
    "    period26_high = df['High'].rolling(window=26,center=False).max()\n",
    "    period26_low = df['Low'].rolling(window=26,center=False).min()\n",
    "    df['standard_line'] = (period26_high + period26_low) / 2\n",
    "    \n",
    "    # Leading Span 1\n",
    "    df['ichimoku_span1'] = ((df['turning_line'] + df['standard_line']) / 2).shift(26)\n",
    "    \n",
    "    # Leading Span 2\n",
    "    period52_high = df['High'].rolling(window=52,center=False).max()\n",
    "    period52_low = df['Low'].rolling(window=52,center=False).min()\n",
    "    df['ichimoku_span2'] = ((period52_high + period52_low) / 2).shift(26)\n",
    "    \n",
    "    # The most current closing price plotted 22 time periods behind (optional)\n",
    "    df['chikou_span'] = df['Close'].shift(-22) # 22 according to investopedia"
   ]
  },
  {
   "cell_type": "code",
   "execution_count": null,
   "metadata": {
    "_uuid": "749681bb4313f0fa2d16fde05f26cb6106ef2b29",
    "collapsed": true
   },
   "outputs": [],
   "source": [
    "for stock in range(len(TechIndicator)):\n",
    "    ichimoku(TechIndicator[stock])\n",
    "    TechIndicator[stock] = TechIndicator[stock].fillna(0)\n",
    "TechIndicator[2].tail()"
   ]
  },
  {
   "cell_type": "markdown",
   "metadata": {
    "_uuid": "edc976bddb7f30c1fd4344fea4822803227df88a"
   },
   "source": [
    "### Calculation of William %R"
   ]
  },
  {
   "cell_type": "markdown",
   "metadata": {
    "_uuid": "2c8d50f38852dc9d4d964b916016ec2046b501b9"
   },
   "source": [
    "%R = -100 * ( ( Highest High - Close) / (\n",
    " Highest High - Lowest Low ) )"
   ]
  },
  {
   "cell_type": "code",
   "execution_count": null,
   "metadata": {
    "_uuid": "c3c837f8b16957288b642af1277ffdcf044560ee",
    "collapsed": true
   },
   "outputs": [],
   "source": [
    "def WillR(df):\n",
    "    highest_high = df['High'].rolling(window=14,center=False).max()\n",
    "    lowest_low = df['Low'].rolling(window=14,center=False).min()\n",
    "    df['WillR'] = (-100) * ((highest_high - df['Close']) / (highest_high - lowest_low))\n"
   ]
  },
  {
   "cell_type": "code",
   "execution_count": null,
   "metadata": {
    "_uuid": "328113df197eab5846bb9b4eee8d853ff236c908",
    "collapsed": true
   },
   "outputs": [],
   "source": [
    "for stock in range(len(TechIndicator)):\n",
    "    WillR(TechIndicator[stock])\n",
    "    TechIndicator[stock] = TechIndicator[stock].fillna(0)\n",
    "TechIndicator[2].tail()"
   ]
  },
  {
   "cell_type": "markdown",
   "metadata": {
    "_uuid": "c9b6ca6a971a67dd3c4118115c1bd29f99a9da3d"
   },
   "source": [
    "### Calculation of MINMAX"
   ]
  },
  {
   "cell_type": "code",
   "execution_count": null,
   "metadata": {
    "_uuid": "66e53880dee5c10a93ed4fd6cebb431d2b555d6b",
    "collapsed": true
   },
   "outputs": [],
   "source": [
    "def MINMAX(df):\n",
    "    df['MIN_Volume'] = df['Volume'].rolling(window=14,center=False).min()\n",
    "    df['MAX_Volume'] = df['Volume'].rolling(window=14,center=False).max()"
   ]
  },
  {
   "cell_type": "code",
   "execution_count": null,
   "metadata": {
    "_uuid": "84f3f0231b9ba1e91a65afa592385d1126609505",
    "collapsed": true
   },
   "outputs": [],
   "source": [
    "for stock in range(len(TechIndicator)):\n",
    "    MINMAX(TechIndicator[stock])\n",
    "    TechIndicator[stock] = TechIndicator[stock].fillna(0)\n",
    "TechIndicator[2].tail()"
   ]
  },
  {
   "cell_type": "markdown",
   "metadata": {
    "_uuid": "8a34aad13b98555404fa2aff595078da25486bfc"
   },
   "source": [
    "### Calculation of Adaptive Moving Average"
   ]
  },
  {
   "cell_type": "code",
   "execution_count": null,
   "metadata": {
    "_uuid": "aa250709c743cc3e94bcdd95084be7aea62cdf19",
    "collapsed": true
   },
   "outputs": [],
   "source": [
    "def KAMA(price, n=10, pow1=2, pow2=30):\n",
    "    ''' kama indicator '''    \n",
    "    ''' accepts pandas dataframe of prices '''\n",
    "\n",
    "    absDiffx = abs(price - price.shift(1) )  \n",
    "\n",
    "    ER_num = abs( price - price.shift(n) )\n",
    "    ER_den = absDiffx.rolling(window=n,center=False).sum()\n",
    "    ER = ER_num / ER_den\n",
    "\n",
    "    sc = ( ER*(2.0/(pow1+1)-2.0/(pow2+1.0))+2/(pow2+1.0) ) ** 2.0\n",
    "\n",
    "\n",
    "    answer = np.zeros(sc.size)\n",
    "    N = len(answer)\n",
    "    first_value = True\n",
    "\n",
    "    for i in range(N):\n",
    "        if sc[i] != sc[i]:\n",
    "            answer[i] = np.nan\n",
    "        else:\n",
    "            if first_value:\n",
    "                answer[i] = price[i]\n",
    "                first_value = False\n",
    "            else:\n",
    "                answer[i] = answer[i-1] + sc[i] * (price[i] - answer[i-1])\n",
    "    return answer"
   ]
  },
  {
   "cell_type": "code",
   "execution_count": null,
   "metadata": {
    "_uuid": "9f25f9e1fbfc01cbaf41451a79ac60925e9c2c6c",
    "collapsed": true
   },
   "outputs": [],
   "source": [
    "for stock in range(len(TechIndicator)):\n",
    "    TechIndicator[stock]['KAMA'] = KAMA(TechIndicator[stock]['Close'])\n",
    "    TechIndicator[stock] = TechIndicator[stock].fillna(0)\n",
    "TechIndicator[4].tail()"
   ]
  },
  {
   "cell_type": "markdown",
   "metadata": {
    "_uuid": "57a4473f83ccde50adfcd86e5f4e8a5ad3479623"
   },
   "source": [
    "## Drop Unwanted Columns"
   ]
  },
  {
   "cell_type": "code",
   "execution_count": null,
   "metadata": {
    "_uuid": "8e3bd5a62eef047dc16144bfbe6a70a5b6a99df2",
    "collapsed": true
   },
   "outputs": [],
   "source": [
    "columns2Drop = ['26_ema', '12_ema','tp','rmf','pmf','nmf','mfr']\n",
    "for stock in range(len(TechIndicator)):\n",
    "    TechIndicator[stock] = TechIndicator[stock].drop(labels = columns2Drop, axis=1)\n",
    "TechIndicator[2].head()"
   ]
  },
  {
   "cell_type": "markdown",
   "metadata": {
    "_uuid": "aa0c7914a21d823c61dc3833bda778e9b0557f1b"
   },
   "source": [
    "# Visualization of technical indicators"
   ]
  },
  {
   "cell_type": "code",
   "execution_count": null,
   "metadata": {
    "_uuid": "50b245e36bf219d205a2d1832896a7d235b26399",
    "collapsed": true
   },
   "outputs": [],
   "source": [
    "TechIndicator[0].head()"
   ]
  },
  {
   "cell_type": "code",
   "execution_count": null,
   "metadata": {
    "_uuid": "ef45579e3433ea6e3d9b39ed215d3d3acef58f46",
    "collapsed": true
   },
   "outputs": [],
   "source": [
    "for stock in range(len(TechIndicator)):\n",
    "    TechIndicator[stock].index = TechIndicator[stock]['Date']\n",
    "    TechIndicator[stock] = TechIndicator[stock].drop(labels = ['Date'], axis = 1)\n"
   ]
  },
  {
   "cell_type": "code",
   "execution_count": null,
   "metadata": {
    "_uuid": "8fb4011640798a939d86fbf842929e0ba137a8e4",
    "collapsed": true
   },
   "outputs": [],
   "source": [
    "TechIndicator[0].head()"
   ]
  },
  {
   "cell_type": "code",
   "execution_count": null,
   "metadata": {
    "_uuid": "37200c0651961a66753011fc2addea0d9e87f486",
    "collapsed": true
   },
   "outputs": [],
   "source": [
    "%matplotlib inline\n",
    "\n",
    "# RSI Plot\n",
    "\n",
    "fig = plt.figure(figsize=(20,25))\n",
    "for i in range(8):\n",
    "    ax = plt.subplot(4,2,i+1)\n",
    "    ax.plot(TechIndicator[i].index, TechIndicator[i]['RSI_14D'])\n",
    "    ax.set_title(str(TechIndicator[i]['Label'][0]))\n",
    "    ax.set_xlabel(\"Date\")\n",
    "    ax.set_ylabel(\"Relative Strength Index\")\n",
    "    plt.xticks(rotation=30)\n",
    "fig.tight_layout()\n"
   ]
  },
  {
   "cell_type": "code",
   "execution_count": null,
   "metadata": {
    "_uuid": "7bcc8900a3e4fb8e0e192f6193e9402b444be9f7",
    "collapsed": true
   },
   "outputs": [],
   "source": [
    "# Volume Plain plot\n",
    "fig = plt.figure(figsize=(20,25))\n",
    "for i in range(8):\n",
    "    ax = plt.subplot(8,1,i+1)\n",
    "    ax.plot(TechIndicator[i].index, TechIndicator[i]['Volume_plain'], 'b')\n",
    "    ax.set_title(str(TechIndicator[i]['Label'][0]))\n",
    "    ax.set_xlabel(\"Date\")\n",
    "    ax.set_ylabel(\"Volume\")\n",
    "    plt.xticks(rotation=30)\n",
    "fig.tight_layout()"
   ]
  },
  {
   "cell_type": "code",
   "execution_count": null,
   "metadata": {
    "_uuid": "9d48c803230eab0a62b81047a4583cc25f60ed65",
    "collapsed": true
   },
   "outputs": [],
   "source": [
    "plt.style.use('fivethirtyeight')\n",
    "\n",
    "fig = plt.figure(figsize=(20,25))\n",
    "for i in range(8):\n",
    "    ax = plt.subplot(4,2,i+1)\n",
    "    ax.fill_between(TechIndicator[i].index, TechIndicator[i]['BB_Upper_Band'], TechIndicator[i]['BB_Lower_Band'], color='grey', label=\"Band Range\")\n",
    "    # Plot Adjust Closing Price and Moving Averages\n",
    "    ax.plot(TechIndicator[i].index, TechIndicator[i]['Close'], color='red', lw=2, label=\"Close\")\n",
    "    ax.plot(TechIndicator[i].index, TechIndicator[i]['BB_Middle_Band'], color='black', lw=2, label=\"Middle Band\")\n",
    "    ax.set_title(\"Bollinger Bands for \" + str(TechIndicator[i]['Label'][0]))\n",
    "    ax.legend()\n",
    "    ax.set_xlabel(\"Date\")\n",
    "    ax.set_ylabel(\"Close Prices\")\n",
    "    plt.xticks(rotation=30)\n",
    "fig.tight_layout()\n",
    "#.dt.to_pydatetime()"
   ]
  },
  {
   "cell_type": "code",
   "execution_count": null,
   "metadata": {
    "_uuid": "962990bedf127881d21a38c28995097ce9888775",
    "collapsed": true
   },
   "outputs": [],
   "source": [
    "# Aroon Oscillator Plot\n",
    "plt.style.use('seaborn-whitegrid')\n",
    "fig = plt.figure(figsize=(20,25))\n",
    "for i in range(8):\n",
    "    ax = plt.subplot(4,2,i+1)\n",
    "    ax.fill(TechIndicator[i].index, TechIndicator[i]['Aroon_Oscillator'],'g', alpha = 0.5, label = \"Aroon Oscillator\")\n",
    "    ax.plot(TechIndicator[i].index, TechIndicator[i]['Close'], 'r', label=\"Close\")\n",
    "    ax.set_title(\"Aroon Oscillator for \" +str(TechIndicator[i]['Label'][0]))\n",
    "    ax.legend()\n",
    "    ax.set_xlabel(\"Date\")\n",
    "    ax.set_ylabel(\"Close Prices\")\n",
    "    plt.xticks(rotation=30)\n",
    "fig.tight_layout()"
   ]
  },
  {
   "cell_type": "code",
   "execution_count": null,
   "metadata": {
    "_uuid": "1dbba61c8a6d2c09a2c311816204b75e01de9efd",
    "collapsed": true
   },
   "outputs": [],
   "source": [
    "# PRice Volume Trend Plot\n",
    "fig = plt.figure(figsize=(20,25))\n",
    "for i in range(8):\n",
    "    ax = plt.subplot(8,1,i+1)\n",
    "    ax.plot(TechIndicator[i].index, TechIndicator[i]['PVT'], 'black')\n",
    "    ax.set_title(\"Price Volume Trend of \" +str(TechIndicator[i]['Label'][0]))\n",
    "    ax.set_xlabel(\"Date\")\n",
    "    ax.set_ylabel(\"Price Volume trend\")\n",
    "    plt.xticks(rotation=30)\n",
    "fig.tight_layout()"
   ]
  },
  {
   "cell_type": "code",
   "execution_count": null,
   "metadata": {
    "_uuid": "7128df90335550dd85f53ba1f60d41900d476e4f",
    "collapsed": true
   },
   "outputs": [],
   "source": [
    "# Acceleration band Plot\n",
    "\n",
    "fig = plt.figure(figsize=(20,25))\n",
    "for i in range(8):\n",
    "    ax = plt.subplot(4,2,i+1)\n",
    "    ax.fill_between(TechIndicator[i].index, TechIndicator[i]['AB_Upper_Band'], TechIndicator[i]['AB_Lower_Band'], color='grey', label = \"Band-Range\")\n",
    "    # Plot Adjust Closing Price and Moving Averages\n",
    "    ax.plot(TechIndicator[i].index, TechIndicator[i]['Close'], color='red', lw=2, label = \"Close\")\n",
    "    ax.plot(TechIndicator[i].index, TechIndicator[i]['AB_Middle_Band'], color='black', lw=2, label=\"Middle_Band\")\n",
    "    ax.set_title(\"Acceleration Bands for \" + str(TechIndicator[i]['Label'][0]))\n",
    "    ax.legend()\n",
    "    ax.set_xlabel(\"Date\")\n",
    "    ax.set_ylabel(\"Close Prices\")\n",
    "    plt.xticks(rotation=30)\n",
    "fig.tight_layout()"
   ]
  },
  {
   "cell_type": "code",
   "execution_count": null,
   "metadata": {
    "_uuid": "f1533f3b161303f428d4f10714b647744d59e180",
    "collapsed": true
   },
   "outputs": [],
   "source": [
    "# Stochastic Oscillator plots\n",
    "plt.style.use('seaborn-whitegrid')\n",
    "fig = plt.figure(figsize=(20,25))\n",
    "for i in range(8):\n",
    "    ax = plt.subplot(4,2,i+1)\n",
    "    ax.plot(TechIndicator[i].index, TechIndicator[i]['STOK'], 'blue', label=\"%K\")\n",
    "    ax.plot(TechIndicator[i].index, TechIndicator[i]['STOD'], 'red', label=\"%D\")\n",
    "    ax.plot(TechIndicator[i].index, TechIndicator[i]['Close'], color='black', lw=2, label = \"Close\")\n",
    "    ax.set_title(\"Stochastic Oscillators of \" +str(TechIndicator[i]['Label'][0]))\n",
    "    ax.legend()\n",
    "    ax.set_xlabel(\"Date\")\n",
    "    ax.set_ylabel(\"Close Price\")\n",
    "    plt.xticks(rotation=30)\n",
    "fig.tight_layout()"
   ]
  },
  {
   "cell_type": "code",
   "execution_count": null,
   "metadata": {
    "_uuid": "3b118707e7c47cba0a4a6e43f050985813265bb0",
    "collapsed": true
   },
   "outputs": [],
   "source": [
    "# Chaikin Money Flow Plots\n",
    "import matplotlib.gridspec as gridspec\n",
    "\n",
    "fig = plt.figure(figsize=(25,40))\n",
    "outer = gridspec.GridSpec(4, 2, wspace=0.2, hspace=0.2)\n",
    "\n",
    "for i in range(8):\n",
    "    inner = gridspec.GridSpecFromSubplotSpec(2, 1,\n",
    "                    subplot_spec=outer[i], wspace=0.1, hspace=0.1)\n",
    "\n",
    "    for j in range(2):\n",
    "        ax = plt.Subplot(fig, inner[j])\n",
    "        if j==0:\n",
    "            t = ax.fill(TechIndicator[i].index, TechIndicator[i]['Chaikin_MF'],'b', alpha = 0.5, label = \"Chaikin MF\")\n",
    "            ax.set_title(\"Chaikin Money Flow for \" +str(TechIndicator[i]['Label'][0]))\n",
    "            t = ax.set_ylabel(\"Money Flow\")\n",
    "        else:\n",
    "            t = ax.plot(TechIndicator[i].index, TechIndicator[i]['Close'], 'r', label=\"Close\")\n",
    "            t = ax.set_ylabel(\"Close\")\n",
    "        ax.legend()\n",
    "        ax.set_xlabel(\"Date\")\n",
    "        \n",
    "        fig.add_subplot(ax)\n",
    "fig.tight_layout()"
   ]
  },
  {
   "cell_type": "code",
   "execution_count": null,
   "metadata": {
    "_uuid": "1abf0e4083e58fbe3e431a7d5b2aaf6cd90ee859",
    "collapsed": true
   },
   "outputs": [],
   "source": [
    "# Parabolic SAR, Rate of Change, Momentum and VWAP Plots\n",
    "fig = plt.figure(figsize=(20,25))\n",
    "for i in range(8):\n",
    "    ax = plt.subplot(4,2,i+1)\n",
    "    ax.plot(TechIndicator[i].index, TechIndicator[i]['psar'], 'blue', label=\"PSAR\", alpha = 0.5)\n",
    "    ax.plot(TechIndicator[i].index, TechIndicator[i]['ROC'], 'red', label=\"ROC\", alpha = 0.5)\n",
    "    ax.plot(TechIndicator[i].index, TechIndicator[i]['Momentum'], 'green', label=\"Momentum\", alpha = 0.5)\n",
    "    ax.plot(TechIndicator[i].index, TechIndicator[i]['VWAP'], 'cyan', label=\"VWAP\", alpha = 0.5)\n",
    "    ax.set_title(\"PSAR, ROC, Momentum and VWAP of \" +str(TechIndicator[i]['Label'][0]))\n",
    "    ax.legend()\n",
    "    ax.set_xlabel(\"Date\")\n",
    "    ax.set_ylabel(\"Close Price\")\n",
    "    plt.xticks(rotation=30)\n",
    "fig.tight_layout()"
   ]
  },
  {
   "cell_type": "code",
   "execution_count": null,
   "metadata": {
    "_uuid": "d58f4b59a220fb351acc6f76e917bc84943aa585",
    "collapsed": true
   },
   "outputs": [],
   "source": [
    "# Commodity Channel Index, Triple Exponential Moving Average On Banalance Volume Plots\n",
    "\n",
    "fig = plt.figure(figsize=(25,80))\n",
    "outer = gridspec.GridSpec(4, 2, wspace=0.2, hspace=0.2)\n",
    "\n",
    "for i in range(8):\n",
    "    inner = gridspec.GridSpecFromSubplotSpec(3, 1,\n",
    "                    subplot_spec=outer[i], wspace=0.3, hspace=0.3)\n",
    "\n",
    "    for j in range(3):\n",
    "        ax = plt.Subplot(fig, inner[j])\n",
    "        if j==0:\n",
    "            t = ax.plot(TechIndicator[i].index, TechIndicator[i]['CCI'], 'green', label=\"CCI\")\n",
    "            t = ax.set_title(\"CCI for \" +str(TechIndicator[i]['Label'][0]))\n",
    "            t = ax.set_ylabel(\"Commodity Channel Index\")\n",
    "        elif j == 1:\n",
    "            t = ax.plot(TechIndicator[i].index, TechIndicator[i]['TEMA'], 'blue', label=\"TEMA\")\n",
    "            t = ax.set_title(\"TEMA for \" +str(TechIndicator[i]['Label'][0]))\n",
    "            t = ax.set_ylabel(\"TripleExponentiaL MA\")\n",
    "        else:\n",
    "            t = ax.plot(TechIndicator[i].index, TechIndicator[i]['OBV'], 'red', label=\"OBV\")\n",
    "            t = ax.set_title(\"OBV for \" +str(TechIndicator[i]['Label'][0]))\n",
    "            t = ax.set_ylabel(\"On Balance Volume\")\n",
    "        ax.legend()\n",
    "        #ax.set_title(\"CCI, TEMA, OBV for \" +str(techindi2[i]['Label'][0]))\n",
    "        ax.set_xlabel(\"Date\")\n",
    "        \n",
    "        fig.add_subplot(ax)\n",
    "fig.tight_layout()"
   ]
  },
  {
   "cell_type": "code",
   "execution_count": null,
   "metadata": {
    "_uuid": "cc4b815d1a090f58fa53c124f597603ee52e2698",
    "collapsed": true
   },
   "outputs": [],
   "source": [
    "# Normalized Average True range Plots\n",
    "plt.style.use('ggplot')\n",
    "fig = plt.figure(figsize=(20,25))\n",
    "for i in range(8):\n",
    "    ax = plt.subplot(4,2,i+1)\n",
    "    ax.plot(TechIndicator[i].index, TechIndicator[i]['NATR'], 'red', label=\"NATR\", alpha = 0.5)\n",
    "    ax.plot(TechIndicator[i].index, TechIndicator[i]['Close'], 'cyan', label=\"Close\", alpha = 0.5)\n",
    "    ax.set_title(\"NATR of \" +str(TechIndicator[i]['Label'][0]))\n",
    "    ax.legend()\n",
    "    ax.set_xlabel(\"Date\")\n",
    "    ax.set_ylabel(\"Close Price\")\n",
    "    plt.xticks(rotation=30)\n",
    "fig.tight_layout()"
   ]
  },
  {
   "cell_type": "code",
   "execution_count": null,
   "metadata": {
    "_uuid": "7cc7a2c66807f52303899d7f7df8a8b7d7deae16",
    "collapsed": true
   },
   "outputs": [],
   "source": [
    "# Keltner Channels Plots\n",
    "\n",
    "fig = plt.figure(figsize=(20,25))\n",
    "for i in range(8):\n",
    "    ax = plt.subplot(4,2,i+1)\n",
    "    ax.fill_between(TechIndicator[i].index, TechIndicator[i]['Kelch_Upper'], TechIndicator[i]['Kelch_Down'], \n",
    "                    color='blue', label = \"Band-Range\", alpha = 0.5)\n",
    "    # Plot Adjust Closing Price and Moving Averages\n",
    "    ax.plot(TechIndicator[i].index, TechIndicator[i]['Close'], color='red', label = \"Close\", alpha = 0.5)\n",
    "    ax.plot(TechIndicator[i].index, TechIndicator[i]['Kelch_Middle'], color='black', label=\"Middle_Band\", alpha = 0.5)\n",
    "    ax.set_title(\"Keltner Channels for \" + str(TechIndicator[i]['Label'][0]))\n",
    "    ax.legend()\n",
    "    ax.set_xlabel(\"Date\")\n",
    "    ax.set_ylabel(\"Close Prices\")\n",
    "    plt.xticks(rotation=30)\n",
    "fig.tight_layout()"
   ]
  },
  {
   "cell_type": "code",
   "execution_count": null,
   "metadata": {
    "_uuid": "9d40abe2cf06dcbf757ac251775ce5daaee5d5f6",
    "collapsed": true
   },
   "outputs": [],
   "source": [
    "# Average Directional Index\n",
    "\n",
    "plt.style.use('seaborn-whitegrid')\n",
    "fig = plt.figure(figsize=(30,25))\n",
    "for i in range(8):\n",
    "    ax = plt.subplot(4,2,i+1)\n",
    "    ax.plot(TechIndicator[i].index, TechIndicator[i]['plusDI'], 'green', label=\"+DI\", alpha = 0.5)\n",
    "    ax.plot(TechIndicator[i].index, TechIndicator[i]['minusDI'], 'cyan', label=\"-DI\", alpha = 0.5)\n",
    "    ax.plot(TechIndicator[i].index, TechIndicator[i]['ADX'], 'red', label=\"ADX\", alpha = 0.5)\n",
    "    ax.set_title(\"Average Directional Index of \" +str(TechIndicator[i]['Label'][0]))\n",
    "    ax.legend()\n",
    "    ax.set_xlabel(\"Date\")\n",
    "    ax.set_ylabel(\"Price\")\n",
    "    plt.xticks(rotation=30)\n",
    "fig.tight_layout()"
   ]
  },
  {
   "cell_type": "code",
   "execution_count": null,
   "metadata": {
    "_uuid": "f93ac6674c1956bbdd6135df0c734f817a8cd44c",
    "collapsed": true
   },
   "outputs": [],
   "source": [
    "# Moving Average Convergence Divergence, Adaptive Moving Avergae Plots\n",
    "plt.style.use('seaborn-whitegrid')\n",
    "fig = plt.figure(figsize=(20,25))\n",
    "for i in range(8):\n",
    "    ax = plt.subplot(4,2,i+1)\n",
    "    ax.plot(TechIndicator[i].index, TechIndicator[i]['MACD'], 'green', label=\"MACD\", alpha = 0.5)\n",
    "    ax.plot(TechIndicator[i].index, TechIndicator[i]['KAMA'], 'blue', label=\"AMA\", alpha = 0.5)\n",
    "    ax.plot(TechIndicator[i].index, TechIndicator[i]['Close'], 'red', label=\"Close\", alpha = 0.5)\n",
    "    ax.set_title(\"MACD and KAMA of \" +str(TechIndicator[i]['Label'][0]))\n",
    "    ax.legend()\n",
    "    ax.set_xlabel(\"Date\")\n",
    "    ax.set_ylabel(\"Price\")\n",
    "    plt.xticks(rotation=30)\n",
    "fig.tight_layout()"
   ]
  },
  {
   "cell_type": "code",
   "execution_count": null,
   "metadata": {
    "_uuid": "58ca7c6920cb21b17fabf2510445d0ea79a45d45",
    "collapsed": true
   },
   "outputs": [],
   "source": [
    "# William %R, Money Flow\n",
    "fig = plt.figure(figsize=(25,50))\n",
    "outer = gridspec.GridSpec(4, 2, wspace=0.2, hspace=0.2)\n",
    "\n",
    "for i in range(8):\n",
    "    inner = gridspec.GridSpecFromSubplotSpec(3, 1,\n",
    "                    subplot_spec=outer[i], wspace=0.2, hspace=0.2)\n",
    "\n",
    "    for j in range(3):\n",
    "        ax = plt.Subplot(fig, inner[j])\n",
    "        if j==0:\n",
    "            t = ax.plot(TechIndicator[i].index, TechIndicator[i]['WillR'], 'green', label=\"William %R\")\n",
    "            t = ax.set_title(\"William %R for \" +str(TechIndicator[i]['Label'][0]))\n",
    "            t = ax.set_ylabel(\"Will%R\")\n",
    "        elif j ==1:\n",
    "            t = ax.plot(TechIndicator[i].index, TechIndicator[i]['Money_Flow_Index'], 'red', label=\"Money Flow Index\")\n",
    "            \n",
    "            t = ax.set_title(\"Money Flow Index for \" +str(TechIndicator[i]['Label'][0]))\n",
    "            t = ax.set_ylabel(\"MFI\")\n",
    "        else:\n",
    "            t = ax.plot(TechIndicator[i].index, TechIndicator[i]['Volume'], 'blue', label=\"Volume\", alpha = 0.5)\n",
    "            t = ax.plot(TechIndicator[i].index, TechIndicator[i]['MIN_Volume'], 'pink', label=\"MIN_Volume\", alpha = 0.5)\n",
    "            t = ax.plot(TechIndicator[i].index, TechIndicator[i]['MAX_Volume'], 'lightgreen', label=\"MAXVolume\",  alpha = 0.5)\n",
    "            t = ax.set_title(\"MINMAX Volume for \" +str(TechIndicator[i]['Label'][0]))\n",
    "            t = ax.set_ylabel(\"Volume\")\n",
    "        ax.legend()\n",
    "        #ax.set_title(\"CCI, TEMA, OBV for \" +str(techindi2[i]['Label'][0]))\n",
    "        ax.set_xlabel(\"Date\")\n",
    "        \n",
    "        fig.add_subplot(ax)\n",
    "fig.tight_layout()"
   ]
  },
  {
   "cell_type": "code",
   "execution_count": null,
   "metadata": {
    "_uuid": "fb9b247cdeb3f8cedde041197122070b4dd59f9c",
    "collapsed": true
   },
   "outputs": [],
   "source": [
    "# ichimoku Plots turning_line\tstandard_line\tichimoku_span1\tichimoku_span2\tchikou_span\n",
    "\n",
    "fig = plt.figure(figsize=(20,25))\n",
    "for i in range(8):\n",
    "    ax = plt.subplot(4,2,i+1)\n",
    "    ax.fill_between(TechIndicator[i].index, TechIndicator[i]['ichimoku_span1'], TechIndicator[i]['ichimoku_span2'], \n",
    "                    color='blue', label = \"ichimoku cloud\", alpha = 0.5)\n",
    "    # Plot Adjust Closing Price and Moving Averages\n",
    "    ax.plot(TechIndicator[i].index, TechIndicator[i]['turning_line'], color='red', label = \"Tenkan-sen\", alpha = 0.4)\n",
    "    ax.plot(TechIndicator[i].index, TechIndicator[i]['standard_line'], color='cyan', label=\"Kijun-sen\", alpha = 0.3)\n",
    "    ax.plot(TechIndicator[i].index, TechIndicator[i]['chikou_span'], color='green', label=\"Chikou-span\", alpha = 0.2)\n",
    "    ax.set_title(\"Ichimoku for \" + str(TechIndicator[i]['Label'][0]))\n",
    "    ax.legend()\n",
    "    ax.set_xlabel(\"Date\")\n",
    "    ax.set_ylabel(\"Prices\")\n",
    "    plt.xticks(rotation=30)\n",
    "fig.tight_layout()"
   ]
  }
 ],
 "metadata": {
  "kernelspec": {
   "display_name": "Python 3",
   "language": "python",
   "name": "python3"
  },
  "language_info": {
   "codemirror_mode": {
    "name": "ipython",
    "version": 3
   },
   "file_extension": ".py",
   "mimetype": "text/x-python",
   "name": "python",
   "nbconvert_exporter": "python",
   "pygments_lexer": "ipython3",
   "version": "3.8.3"
  }
 },
 "nbformat": 4,
 "nbformat_minor": 1
}
